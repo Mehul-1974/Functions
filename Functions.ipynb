{
  "nbformat": 4,
  "nbformat_minor": 0,
  "metadata": {
    "colab": {
      "provenance": []
    },
    "kernelspec": {
      "name": "python3",
      "display_name": "Python 3"
    },
    "language_info": {
      "name": "python"
    }
  },
  "cells": [
    {
      "cell_type": "markdown",
      "source": [
        "# ***Functions***"
      ],
      "metadata": {
        "id": "GAnA4Mg84Eq8"
      }
    },
    {
      "cell_type": "markdown",
      "source": [
        "# theory"
      ],
      "metadata": {
        "id": "cpD_Mp6HCOam"
      }
    },
    {
      "cell_type": "markdown",
      "source": [
        "#1. Difference between Function and Method in Python\n",
        "* Function: A block of reusable code, defined using def, and can be called independently.\n",
        "* Method: A function associated with an object (usually a class instance)\n"
      ],
      "metadata": {
        "id": "LQDt7nAB4VX8"
      }
    },
    {
      "cell_type": "code",
      "source": [
        "#function\n",
        "def greet():\n",
        "    print(\"Hello\")\n",
        "greet()"
      ],
      "metadata": {
        "colab": {
          "base_uri": "https://localhost:8080/"
        },
        "id": "cl8WVIl95j_k",
        "outputId": "126f406d-9f0e-45dd-9184-ad59b5ab3a70"
      },
      "execution_count": 4,
      "outputs": [
        {
          "output_type": "stream",
          "name": "stdout",
          "text": [
            "Hello\n"
          ]
        }
      ]
    },
    {
      "cell_type": "code",
      "source": [
        "#method\n",
        "name = \"Alice\"\n",
        "print(name.upper())  # upper() is a string method\n"
      ],
      "metadata": {
        "colab": {
          "base_uri": "https://localhost:8080/"
        },
        "id": "AtTpX_HB6Ptl",
        "outputId": "cef685f6-75bf-4a2a-aa8a-b98a2c30cd39"
      },
      "execution_count": 3,
      "outputs": [
        {
          "output_type": "stream",
          "name": "stdout",
          "text": [
            "ALICE\n"
          ]
        }
      ]
    },
    {
      "cell_type": "markdown",
      "source": [
        "#2. Function Arguments and Parameters\n",
        "* Parameters are the variables in the function definition.\n",
        "* Arguments are the actual values passed during function calls."
      ],
      "metadata": {
        "id": "Op-qtXr14VTz"
      }
    },
    {
      "cell_type": "code",
      "source": [
        "def add(x, y):\n",
        "    return x + y\n",
        "print(add(2, 3))\n"
      ],
      "metadata": {
        "colab": {
          "base_uri": "https://localhost:8080/"
        },
        "id": "QMHDEIS16hjE",
        "outputId": "0c4e90b3-685f-4e7b-9b3a-4f9f447dd216"
      },
      "execution_count": 6,
      "outputs": [
        {
          "output_type": "stream",
          "name": "stdout",
          "text": [
            "5\n"
          ]
        }
      ]
    },
    {
      "cell_type": "markdown",
      "source": [
        "#3. Ways to Define and Call a Function\n",
        "* Standard function:\n",
        "* Function with arguments\n",
        "* Lambda function (anonymous)\n",
        "#example are given below"
      ],
      "metadata": {
        "id": "N6M3fpcB4VQc"
      }
    },
    {
      "cell_type": "code",
      "source": [
        "#Standard function:\n",
        "def say_hello():\n",
        "    print(\"Hello\")\n",
        "say_hello()\n",
        "\n"
      ],
      "metadata": {
        "colab": {
          "base_uri": "https://localhost:8080/"
        },
        "id": "JjHOt8OC7PPN",
        "outputId": "177b0cdf-b79b-4503-cf46-fd2ee33bca0f"
      },
      "execution_count": 7,
      "outputs": [
        {
          "output_type": "stream",
          "name": "stdout",
          "text": [
            "Hello\n"
          ]
        }
      ]
    },
    {
      "cell_type": "code",
      "source": [
        "#Function with arguments:\n",
        "def square(n):\n",
        "    return n * n\n",
        "print(square(5))\n"
      ],
      "metadata": {
        "colab": {
          "base_uri": "https://localhost:8080/"
        },
        "id": "tBFeFF5-7cy9",
        "outputId": "0147134b-3559-4658-97b5-e3976522e534"
      },
      "execution_count": 8,
      "outputs": [
        {
          "output_type": "stream",
          "name": "stdout",
          "text": [
            "25\n"
          ]
        }
      ]
    },
    {
      "cell_type": "code",
      "source": [
        "#Lambda function (anonymous):\n",
        "square = lambda x: x * x\n",
        "print(square(4))\n"
      ],
      "metadata": {
        "colab": {
          "base_uri": "https://localhost:8080/"
        },
        "id": "olLkKSAW7nJc",
        "outputId": "83fe5cdb-bf0f-4824-8407-2826a62d9d5a"
      },
      "execution_count": 9,
      "outputs": [
        {
          "output_type": "stream",
          "name": "stdout",
          "text": [
            "16\n"
          ]
        }
      ]
    },
    {
      "cell_type": "markdown",
      "source": [
        "#4. Purpose of return Statement\n",
        "* It ends the function and sends a result back to the caller."
      ],
      "metadata": {
        "id": "alqQcNeD4VM8"
      }
    },
    {
      "cell_type": "code",
      "source": [
        "def add(x, y):\n",
        "    return x + y\n",
        "\n",
        "result = add(4, 5)\n",
        "print(result)  # 9\n"
      ],
      "metadata": {
        "colab": {
          "base_uri": "https://localhost:8080/"
        },
        "id": "G3lsUWu87zW9",
        "outputId": "d55b03af-61fa-46df-f43c-0ccea4fed1e5"
      },
      "execution_count": 10,
      "outputs": [
        {
          "output_type": "stream",
          "name": "stdout",
          "text": [
            "9\n"
          ]
        }
      ]
    },
    {
      "cell_type": "markdown",
      "source": [
        "#5. Iterators vs Iterables\n",
        "* Iterable: An object that can be looped over (list, tuple, etc.).\n",
        "\n",
        "* Iterator: An object that remembers the current position and uses next()."
      ],
      "metadata": {
        "id": "2d7gYriI4VJM"
      }
    },
    {
      "cell_type": "code",
      "source": [
        "lst = [1, 2, 3]  # iterable\n",
        "it = iter(lst)   # iterator\n",
        "print(next(it))\n"
      ],
      "metadata": {
        "colab": {
          "base_uri": "https://localhost:8080/"
        },
        "id": "pB2TQM3m79cs",
        "outputId": "a1e6e0d9-ba81-4dd9-9324-8ec4cf1b8764"
      },
      "execution_count": 11,
      "outputs": [
        {
          "output_type": "stream",
          "name": "stdout",
          "text": [
            "1\n"
          ]
        }
      ]
    },
    {
      "cell_type": "markdown",
      "source": [
        "#6. Generators in Python\n",
        "* A generator is a function that uses yield to produce a series of values lazily (one at a time)."
      ],
      "metadata": {
        "id": "jCBif1KP4VGE"
      }
    },
    {
      "cell_type": "code",
      "source": [
        "def count_up_to(n):\n",
        "    i = 1\n",
        "    while i <= n:\n",
        "        yield i\n",
        "        i += 1\n",
        "\n",
        "for num in count_up_to(3):\n",
        "    print(num)\n"
      ],
      "metadata": {
        "colab": {
          "base_uri": "https://localhost:8080/"
        },
        "id": "4KgA0fUq8uy1",
        "outputId": "b69997b2-0c3b-44f7-fb39-a4e4bb67eff9"
      },
      "execution_count": 12,
      "outputs": [
        {
          "output_type": "stream",
          "name": "stdout",
          "text": [
            "1\n",
            "2\n",
            "3\n"
          ]
        }
      ]
    },
    {
      "cell_type": "markdown",
      "source": [
        "#7. Advantages of Generators\n",
        "* Memory efficient: Don’t store entire sequence in memory.\n",
        "\n",
        "* Lazy evaluation: Generates values on-the-fly.\n",
        "\n",
        "* Example: Use for reading large files line by line."
      ],
      "metadata": {
        "id": "nHdh9AFA4VCU"
      }
    },
    {
      "cell_type": "markdown",
      "source": [
        "#8. Lambda Functions\n",
        "* Anonymous functions, used for short operations.\n",
        "* Syntax: lambda arguments: expression"
      ],
      "metadata": {
        "id": "Rm_NfKIf4U_L"
      }
    },
    {
      "cell_type": "code",
      "source": [
        "square = lambda x: x ** 2\n",
        "print(square(5))\n"
      ],
      "metadata": {
        "colab": {
          "base_uri": "https://localhost:8080/"
        },
        "id": "lif43wuF9SJO",
        "outputId": "2203cfb5-56a2-41d3-bf3a-7937c2cc8836"
      },
      "execution_count": 13,
      "outputs": [
        {
          "output_type": "stream",
          "name": "stdout",
          "text": [
            "25\n"
          ]
        }
      ]
    },
    {
      "cell_type": "markdown",
      "source": [
        "#9. Purpose and Usage of map()\n",
        "* Applies a function to each element in an iterable"
      ],
      "metadata": {
        "id": "KHayVlgh4U7c"
      }
    },
    {
      "cell_type": "markdown",
      "source": [
        "#10. Difference Between map(), reduce(), filter()\n",
        "| Function   | Purpose                                           | Example                                 |\n",
        "| ---------- | ------------------------------------------------- | --------------------------------------- |\n",
        "| `map()`    | Applies function to all items                     | `map(lambda x: x*2, [1,2])` → \\[2,4]    |\n",
        "| `filter()` | Filters items using a condition                   | `filter(lambda x: x>2, [1,2,3])` → \\[3] |\n",
        "| `reduce()` | Reduces items to single value (needs `functools`) | `reduce(lambda x,y: x+y, [1,2,3])` → 6  |\n"
      ],
      "metadata": {
        "id": "DWGai7hf9oYF"
      }
    },
    {
      "cell_type": "markdown",
      "source": [
        "#11. Reduce Function Visualization (Sum Operation)\n",
        "![WhatsApp Image 2025-05-21 at 23.34.49_be2cab55.jpg](data:image/jpeg;base64,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)\n"
      ],
      "metadata": {
        "id": "pvlAMDq49ubV"
      }
    },
    {
      "cell_type": "code",
      "source": [
        "from functools import reduce\n",
        "reduce(lambda x, y: x + y, [47,11,42,13])\n"
      ],
      "metadata": {
        "colab": {
          "base_uri": "https://localhost:8080/"
        },
        "id": "c-iRxL3PB9sH",
        "outputId": "3e01b2ea-684c-4c88-a076-22fd389f336a"
      },
      "execution_count": 15,
      "outputs": [
        {
          "output_type": "execute_result",
          "data": {
            "text/plain": [
              "113"
            ]
          },
          "metadata": {},
          "execution_count": 15
        }
      ]
    },
    {
      "cell_type": "markdown",
      "source": [
        "# practical"
      ],
      "metadata": {
        "id": "rAYALBzGCTlm"
      }
    },
    {
      "cell_type": "code",
      "source": [
        "#1\n",
        "def sum_of_even_numbers(numbers):\n",
        "    return sum(num for num in numbers if num % 2 == 0)\n",
        "numbers = [1, 2, 3, 4, 5, 6]\n",
        "print(\"Sum of even numbers:\", sum_of_even_numbers(numbers))\n"
      ],
      "metadata": {
        "colab": {
          "base_uri": "https://localhost:8080/"
        },
        "id": "BlzWxozpCwmN",
        "outputId": "0fe5462c-cb77-4a54-b945-fb3cd9b04d61"
      },
      "execution_count": 18,
      "outputs": [
        {
          "output_type": "stream",
          "name": "stdout",
          "text": [
            "Sum of even numbers: 12\n"
          ]
        }
      ]
    },
    {
      "cell_type": "code",
      "source": [
        "#2\n",
        "def reverse_string(s):\n",
        "    return s[::-1]\n",
        "text = \"Python\"\n",
        "print(\"Reversed string:\", reverse_string(text))\n"
      ],
      "metadata": {
        "colab": {
          "base_uri": "https://localhost:8080/"
        },
        "id": "vweO3tI6Dqk_",
        "outputId": "33d94c98-7399-474c-b43e-9bd083aac093"
      },
      "execution_count": 19,
      "outputs": [
        {
          "output_type": "stream",
          "name": "stdout",
          "text": [
            "Reversed string: nohtyP\n"
          ]
        }
      ]
    },
    {
      "cell_type": "code",
      "source": [
        "#3\n",
        "def square_list(numbers):\n",
        "    return [num ** 2 for num in numbers]\n",
        "nums = [1, 2, 3, 4]\n",
        "print(\"Squares:\", square_list(nums))\n"
      ],
      "metadata": {
        "colab": {
          "base_uri": "https://localhost:8080/"
        },
        "id": "Tqex-IjoEHB3",
        "outputId": "dde46b22-df44-495a-ac63-f7f6e8d28110"
      },
      "execution_count": 20,
      "outputs": [
        {
          "output_type": "stream",
          "name": "stdout",
          "text": [
            "Squares: [1, 4, 9, 16]\n"
          ]
        }
      ]
    },
    {
      "cell_type": "code",
      "source": [
        "#4\n",
        "def is_prime(n):\n",
        "    if n < 2:\n",
        "        return False\n",
        "    for i in range(2, int(n**0.5)+1):\n",
        "        if n % i == 0:\n",
        "            return False\n",
        "    return True\n",
        "primes = [num for num in range(1, 201) if is_prime(num)]\n",
        "print(\"Prime numbers from 1 to 200:\", primes)\n"
      ],
      "metadata": {
        "colab": {
          "base_uri": "https://localhost:8080/"
        },
        "id": "shrMHVigEK2P",
        "outputId": "b7d22350-013f-4a73-d974-b8ea67495e5a"
      },
      "execution_count": 21,
      "outputs": [
        {
          "output_type": "stream",
          "name": "stdout",
          "text": [
            "Prime numbers from 1 to 200: [2, 3, 5, 7, 11, 13, 17, 19, 23, 29, 31, 37, 41, 43, 47, 53, 59, 61, 67, 71, 73, 79, 83, 89, 97, 101, 103, 107, 109, 113, 127, 131, 137, 139, 149, 151, 157, 163, 167, 173, 179, 181, 191, 193, 197, 199]\n"
          ]
        }
      ]
    },
    {
      "cell_type": "code",
      "source": [
        "#5\n",
        "class FibonacciIterator:\n",
        "    def __init__(self, terms):\n",
        "        self.terms = terms\n",
        "        self.count = 0\n",
        "        self.a, self.b = 0, 1\n",
        "\n",
        "    def __iter__(self):\n",
        "        return self\n",
        "\n",
        "    def __next__(self):\n",
        "        if self.count >= self.terms:\n",
        "            raise StopIteration\n",
        "        result = self.a\n",
        "        self.a, self.b = self.b, self.a + self.b\n",
        "        self.count += 1\n",
        "        return result\n",
        "print(\"Fibonacci Sequence:\")\n",
        "for num in FibonacciIterator(10):\n",
        "    print(num, end=\" \")\n"
      ],
      "metadata": {
        "colab": {
          "base_uri": "https://localhost:8080/"
        },
        "id": "-wiEK4ExERSH",
        "outputId": "703110fe-50cc-479c-a236-138a66a92234"
      },
      "execution_count": 22,
      "outputs": [
        {
          "output_type": "stream",
          "name": "stdout",
          "text": [
            "Fibonacci Sequence:\n",
            "0 1 1 2 3 5 8 13 21 34 "
          ]
        }
      ]
    },
    {
      "cell_type": "code",
      "source": [
        "#6\n",
        "def powers_of_two(max_exp):\n",
        "    for i in range(max_exp + 1):\n",
        "        yield 2 ** i\n",
        "print(\"\\nPowers of 2:\")\n",
        "for power in powers_of_two(5):\n",
        "    print(power, end=\" \")\n"
      ],
      "metadata": {
        "colab": {
          "base_uri": "https://localhost:8080/"
        },
        "id": "h3FyvdW_EfH3",
        "outputId": "1fc68dce-b1ce-4819-8ecf-8124bba4e772"
      },
      "execution_count": 23,
      "outputs": [
        {
          "output_type": "stream",
          "name": "stdout",
          "text": [
            "\n",
            "Powers of 2:\n",
            "1 2 4 8 16 32 "
          ]
        }
      ]
    },
    {
      "cell_type": "code",
      "source": [
        "#7\n",
        "#sorry i was not able to understand this question\n"
      ],
      "metadata": {
        "id": "oMVy5zftEmBv"
      },
      "execution_count": 25,
      "outputs": []
    },
    {
      "cell_type": "code",
      "source": [
        "#8\n",
        "tuples_list = [(1, 3), (4, 1), (2, 5)]\n",
        "sorted_list = sorted(tuples_list, key=lambda x: x[1])\n",
        "print(\"Sorted by second element:\", sorted_list)\n"
      ],
      "metadata": {
        "colab": {
          "base_uri": "https://localhost:8080/"
        },
        "id": "6mwcZEN9EyHH",
        "outputId": "2a628bb4-03bc-4e0f-8103-bce87201fc7b"
      },
      "execution_count": 26,
      "outputs": [
        {
          "output_type": "stream",
          "name": "stdout",
          "text": [
            "Sorted by second element: [(4, 1), (1, 3), (2, 5)]\n"
          ]
        }
      ]
    },
    {
      "cell_type": "code",
      "source": [
        "#9\n",
        "celsius = [0, 20, 37, 100]\n",
        "fahrenheit = list(map(lambda c: (c * 9/5) + 32, celsius))\n",
        "print(\"Fahrenheit temperatures:\", fahrenheit)\n"
      ],
      "metadata": {
        "colab": {
          "base_uri": "https://localhost:8080/"
        },
        "id": "TG6lCMN6FLWP",
        "outputId": "e3fa5d90-30be-44ae-cb73-ca985ff4436c"
      },
      "execution_count": 27,
      "outputs": [
        {
          "output_type": "stream",
          "name": "stdout",
          "text": [
            "Fahrenheit temperatures: [32.0, 68.0, 98.6, 212.0]\n"
          ]
        }
      ]
    },
    {
      "cell_type": "code",
      "source": [
        "#10\n",
        "def remove_vowels(s):\n",
        "    return ''.join(filter(lambda ch: ch.lower() not in 'aeiou', s))\n",
        "text = \"Hello World\"\n",
        "print(\"Without vowels:\", remove_vowels(text))\n"
      ],
      "metadata": {
        "colab": {
          "base_uri": "https://localhost:8080/"
        },
        "id": "f7xuUNUAFOyP",
        "outputId": "644024aa-c8e0-4314-ad58-300c2640eb69"
      },
      "execution_count": 28,
      "outputs": [
        {
          "output_type": "stream",
          "name": "stdout",
          "text": [
            "Without vowels: Hll Wrld\n"
          ]
        }
      ]
    },
    {
      "cell_type": "code",
      "source": [
        "#11\n",
        "orders = [\n",
        "    [34587, \"Learning Python, Mark Lutz\", 4, 40.95],\n",
        "    [98762, \"Programming Python, Mark Lutz\", 5, 56.80],\n",
        "    [77226, \"Head First Python, Paul Barry\", 3, 32.95],\n",
        "    [88112, \"Einführung in Python3, Bernd Klein\", 3, 24.99]\n",
        "]\n",
        "result = list(map(lambda order:\n",
        "                  (order[0], order[2] * order[3] if order[2] * order[3] >= 100 else order[2] * order[3] + 10),\n",
        "                  orders))\n",
        "print(result)\n"
      ],
      "metadata": {
        "colab": {
          "base_uri": "https://localhost:8080/"
        },
        "id": "FYtxf5MyFSU_",
        "outputId": "90d3b4c8-4e86-4d40-b6a0-0a07624f0617"
      },
      "execution_count": 29,
      "outputs": [
        {
          "output_type": "stream",
          "name": "stdout",
          "text": [
            "[(34587, 163.8), (98762, 284.0), (77226, 108.85000000000001), (88112, 84.97)]\n"
          ]
        }
      ]
    }
  ]
}